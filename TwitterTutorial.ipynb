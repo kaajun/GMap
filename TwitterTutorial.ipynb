{
 "cells": [
  {
   "cell_type": "code",
   "execution_count": 29,
   "metadata": {},
   "outputs": [
    {
     "name": "stdout",
     "output_type": "stream",
     "text": [
      "[]\n"
     ]
    }
   ],
   "source": [
    "import requests\n",
    "from bs4 import BeautifulSoup as soup\n",
    "\n",
    "url = u'https://twitter.com/search?vertical=default&q='\n",
    "query = u'%40dawranliou'\n",
    "\n",
    "# r is object type of html response and contain html structure\n",
    "r = requests.get(url+query)\n",
    "\n",
    "page_soup = soup(r.text,'html.parser')\n",
    "tweets = page_soup.findAll(\"div\",class_='tweet-text')\n",
    "\n",
    "print(tweets)\n"
   ]
  },
  {
   "cell_type": "code",
   "execution_count": 30,
   "metadata": {},
   "outputs": [],
   "source": [
    "# open a file called 'search.html' and copy data of r into 'search.html'\n",
    "f = open('search.html','w')\n",
    "f.write(r.text.encode('utf-8'))"
   ]
  },
  {
   "cell_type": "markdown",
   "metadata": {},
   "source": [
    "The more sophisticated approach\n",
    "\n",
    "In this approach, you need to understand how the infinite scrolling works. In the case of this tutorial, when the tweet search page loaded, none of the tweets contents were loaded at the time. It is the frontend javascript code that sends the HTTP request to get tweets from the server asynchronously, and manipulates the HTML file to render those tweets. This technology is called AJAX. You may find more information online if you are interested.\n",
    "\n",
    "Okay! This is the approach I want to show you. Think about the problem this way: no matter how sophisticated the website is designed, the end result is still a list of tweets loaded on your browser. So my so-called more naive approach is to focus on the end result only. if we could manipulate the browser to load those tweets for me, just as what we see normally, we could use the same the knowledge to parse the HTML file and get the tweets. To automate the browser for us, I’ll show you how I used Selenium.\n",
    "\n",
    "“Selenium automates browsers.” That’s what the official website says. Selenium Python bindings will help us to use Selenium using Python. Follow the installation page to install it. The code below tells Selenium to use Chrome to open up the Twitter search page and then move down the page for 5 times. Since the browser object provides the handy API to locate the tweets, we don’t need to use the BeautifulSoup again to parse the HTML file. You may run the script now:"
   ]
  },
  {
   "cell_type": "code",
   "execution_count": 46,
   "metadata": {},
   "outputs": [
    {
     "name": "stdout",
     "output_type": "stream",
     "text": [
      "<selenium.webdriver.chrome.webdriver.WebDriver (session=\"7fa34efbe25c766a14128f08da34ae1e\")>\n",
      "[u'Thanks!', u'oops meant to link the talk', u'Congrats! ', u'@dawranliou great to hear that! Really glad that it helped you to start with #clojuresript!', u'Never mind.. I found a relevant post on your blog  @dawranliou', u'I\\u2019m doing the same thing here. Are you trying to convince your audiences to use clojure too?', u\"Doesn't that make Bash a REPL then?\", u'Can you share link to slides or talk please?', u\"That's very helpful!\", u\"Follow-up with focus on 1.10's datafy and nav?\", u'\"I can testify that it\\'s no less readable and convenient to edit.\"\\nactually, code as data + homoiconicity enables structural editing and makes it more readable and convenient for humans and machines.', u'Will do! Thanks I\\u2019ve wanted to find more live coding in clojure', u'Looking forward to it!', u'@lilactown_ Hey just want to say thank you for creating hx. I found it very refreshing and cool. It gave me a reason to finally check out react hooks. #clojure', u'Btw., Clojure describes some syntax here:\\n\\nhttps://clojure.org/reference/special_forms \\u2026', u'@dawranliou https://medium.com/@dawran6/twitter-scraper-tutorial-with-python-requests-beautifulsoup-and-selenium-part-1-8e76d62ffd68 \\u2026 thanks for this tutorial Daw', u'3 of 5 stars to Radical Candor by Kim Malone Scott', u'Sorry never mind. I just found the slides', u'I don\\'t see the problem. If the person is open for help he\\'ll ask \"which books\" and I\\'d happily oblige. I doubt you learned clojure from twitter replies.', u'I really enjoyed the clear explanations and animations in the article: \"HTML slides without frameworks, just CSS\" by\\n@hj_chen', u'It\\u2019s a great course! That\\u2019s how I first started clojurescript and reagent :)', u'Everything works better with immutable data. :-)', u'But, as I said, that advice is really conjecture on my part. Never really followed it in a business setting.\\n\\nI would be very curious to hear how things work out for you.', u'Thanks again! The talk is amazing. I found a very helpful slide for me to compare Clojure REPL with other Shell-like REPL. Is the slide deck for this talk also shared by any chance?', u'Perhaps the lisps are the convention over configuration family.', u\"More convenient to write yes, to read is more debatable, and programmers *really* like debating this topic, so I wouldn't take that away from them :)\", u'Congrats Roger!', u'Several examples in my \"Running with Scissors\" #Clojure talk https://www.youtube.com/watch?v=Qx0-pViyIDU \\u2026 -- sorry I don\\'t have a transcript to go with that', u\"Thanks for your kind comment! I haven't tried datawalk myself but it looks pretty awesome already.\\n\\nIf you are an emacs user, I came across cider's inspector tool on reddit, though I haven't tried it out yet https://cider.readthedocs.io/en/latest/miscellaneous_features/#inspecting-values \\u2026\", u'4 of 5 stars to Talk Like TED by Carmine Gallo', u'Good article. I\\u2019d tried java.inspector before, but learning about http://java.data  was neat.\\n\\nI wish there was a good version of data.inspector that worked in the terminal. datawalk is good, but having a tree explorer would be awesome.', u'Thanks for the feedback! We definitely like the idea of sharing more code, and we hope to have something more on that soon.', u'Not a big tweeter but pm me if you want to jam on any ideas or hear more.', u'That\\u2019s my favorite slide in the whole talk :)', u\"I haven't tried datafy either, so would be grateful if you did and shared the experience.\", u'In Python, the syntax for function evaluation and function definition are different:\\n\\ndef f():\\n    0\\nvs\\nf()\\n\\nWhereas, the syntax is the same in Clojure:\\n\\n(defn f [] 0)\\nand\\n(f)\\n\\nI hope this example makes it clearer about the point I was trying to make.', u\"Nice article.. I tried Java interop a year ago and couldn't get it to work.. this might encourage me to pick it up again.. any resource you know I should look up?\", u'This is quite alarming.', u'BREAKING: A new simulation has revealed that global warming could cause stratocumulus clouds to disappear in as little as a century, which would add 8\\xb0C (14\\xb0F) of extra warming. \\n\\u2026', u\"I've just donated $5 to CIDER. I'm happy to be able to contribute back to one of my favorite #clojure projects. https://opencollective.com/cider?referral=32388 \\u2026\", u'Hey @martinklepsch your In/Clojure 2019 talk about cljdoc is on YouTube :)', u'Thanks to @lilactown_ for providing this #clojurescript tip: when CLJS printer is barfing on the js/Symbol value, use the following lines to fix it:\\n\\n(extend-protocol IPrintWithWriter\\n js/Symbol\\n (-pr-writer [sym writer _]\\n   (-write writer (str \"\\\\\"\" (.toString sym) \"\\\\\"\"))))', u'REPL power is also in immutability. Eval is not destructive. Thus you can try a thing multiple times without a fear of breaking things.', u'Our definition of syntax seems different. I consider syntax the structure of the code that compilers can understand (can be parsed into ast), while the evaluation result might differ depending on the functions or the macros.', u'Thanks! My takeaways are: a) maps are much simpler and reusable, and b) REPL works better with immutable data. Please feel free if I miss any important point.', u'You sound like PC principal. I think you are confused about the nature of our relationship.', u'I wrote some thoughts about this very question https://vvvvalvalval.github.io/posts/what-makes-a-good-repl.html \\u2026', u'Very happy with the improved visual separation between Readme/Changelog, other articles and namespaces on cljdoc. \\n\\nCredits go to @dawranliou for the bulk of this. ', u\"You're welcome! I appreciate you reaching out  glad you are finding it useful\", u'My heart sank a little when I read the first sentence.. but then it went all \"hell yeah!\"', u'I like that one too!', u'That would be very difficult. Primarily, I am presenting Functional Programming or OOP, then I sneak Clojure into the talks.\\nThe benefits is what attracts people the most.', u\"Thanks to the #clojure community. Seeing my article topped a google search result is both encouraging and satisfying. I'm getting better and better at writing and explaining things online.\", u'Consider setting those as the default', u'git config rebase.autostash true\\ngit config pull.rebase true\\n\\ngit add \\u2014patch\\u2026', u'I totally need a git alias for this.', u'[Protip] `$ git commit -v` will place a diff of what you\\u2019re about to commit at the bottom of the commit message. This diff won\\u2019t be included in the commit message itself, but helps you refer to the changes you\\u2019re currently\\u2026', u'Thanks @magnars ! The website looks awesome. I\\u2019ll definitely check it out', u'Thanks that\\u2019s a great follow-up idea. It\\u2019s a good chance for me to finally try out those new features', u'I  just published \"Tachyons CSS Framework / Library Review\". Just in case  you are curious, yes, the website itself is built with Tachyons. #css #tachyons', u'5 of 5 stars to The Headspace Guide to Meditation & M... by Andy Puddicombe', u'My pleasure! :) deployed it just now:', u\"btw., the data format in Lisp is called s-expressions - for symbolic expressions. (milk sugar coffee) and (x := a * 2 b) are both valid s-expressions. The means for example that one can easily write infix expressions as s-expressions. In Lisp that's a macro away...\", u\"it's just that the Lisp code is not an AST. It's just a hierachical token tree. The compiler will have to parse it to find out what the token tree elements actually are and make a real AST from it. (READ) in Lisp will read any data and many of them are not valid Lisp programs.\", u'Nice recap inspired by @pgbovine\\'s teachings, using Python 3. \"Getting Started with Python Internals\" by @dawranliou ', u\"I recreated my website from scratch and it's live now! I had been wanted  to give the website a fresh new design. The website is built with  Middleman and Tachyon. Enjoy!\", u'Thank you. I think I had enough life advice from you for today.', u'I thought I would see \\u201cjavascript\\u201d in the required language but turned out to be \\u201cEnglish\\u201d hahaha', u'\\u201cHealth is my first priority\\u201d is what I need to remind myself constantly ', u'Where I work, I feel like that I have to win this debate in order to convince colleagues to learn more about it, which is a very frustrating process.', u'Other than that, I encourage conversation, open curiosity, and enthusiasm.\\n\\nPeople are never convinced by explanations. Ask, \"How might this would look in clj?\" Exclaim, \"Omg, I was working a similar problem in clj. Look how that turned out!\"', u'Thanks for the link. I wanted a Clojure course which was free and project driven to help a beginner get started', u'I just published a new article \"Inspect Java Objects with Clojure.\" Any feed back is welcome :) #clojure #java', u'Thanks, that\\u2019s a new POV for me as a newcomer. Would you give me an example where you want to compose read, eval, and print differently?', u\"I wonder how long has Cisco adopted clojure and was the adoption smooth? I'm currently trying to sell clojure to where I work but it isn't easy. I hope to learn something from Cisco's experience. Thanks.\", u'Eval is not compatible with types. Neither dynamic nor static. What does it mean to eval a type definition? Old values are invalid now? Or both new ones and old ones coexist? If you use maps the question is irrelevant. With dynamic types both can coexist.', u\"Great to hear from you. We totally agree, the struggle is real, but in the end totally worth it.  Let us know what you think of today's episode where we take editor integration to the next level.\", u'As far as adoption in an existing company, my experience has been either: 1) a tech lead commits early on, or 2) you have enough autonomy in a small project to make the call on Lang choice.', u'Hell yeah', u'Return to Koholint Island and awaken the Wind Fish in this reimagining of a beloved classic! The Legend of #Zelda: Link\\u2019s Awakening sails onto #NintendoSwitch in 2019. ', u'Great article from @val_waeselynck on Clojure/LISP syntax. This would be very helpful on my journey to convince my colleagues to start using #Clojure. https://vvvvalvalval.github.io/posts/2018-01-06-so-yeah-about-clojures-syntax.html \\u2026', u'It\\u2019s amazing how simple #lisp (and personal preference #clojure) could get. Language syntax are complex - we added them to extend the ability of languages. There\\u2019s only one syntax in lisp. This is something truly awesome.', u'First Lisp lesson. \\n\\nIn Java we say: f(x). \\nIn Lisp we say (f x).\\u2026', u\"If you don't understand why that is happening, then you have no basis for trusting or mistrusting anything.\", u'Haha, Java (and friends) were in containers before containers were cool.']\n",
      "85\n"
     ]
    }
   ],
   "source": [
    "import time\n",
    "from selenium import webdriver\n",
    "from selenium.webdriver.common.keys import Keys\n",
    "\n",
    "browser = webdriver.Chrome()\n",
    "print(browser)\n",
    "base_url = u'https://twitter.com/search?vertical=default&q='\n",
    "query = u'%40dawranliou'\n",
    "url = base_url+query\n",
    "\n",
    "browser.get(url)\n",
    "time.sleep(2)\n",
    "\n",
    "body = browser.find_element_by_tag_name('body')\n",
    "for _ in range(20):\n",
    "    body.send_keys(Keys.PAGE_DOWN)\n",
    "    time.sleep(2)\n",
    "    \n",
    "tweets = browser.find_elements_by_class_name('tweet-text')\n",
    "\n",
    "t_list= []\n",
    "for tweet in tweets:\n",
    "    t_list.append(tweet.text)\n",
    "    \n",
    "print(t_list)\n",
    "print(len(t_list))"
   ]
  },
  {
   "cell_type": "code",
   "execution_count": null,
   "metadata": {},
   "outputs": [],
   "source": []
  }
 ],
 "metadata": {
  "kernelspec": {
   "display_name": "Python 2",
   "language": "python",
   "name": "python2"
  },
  "language_info": {
   "codemirror_mode": {
    "name": "ipython",
    "version": 2
   },
   "file_extension": ".py",
   "mimetype": "text/x-python",
   "name": "python",
   "nbconvert_exporter": "python",
   "pygments_lexer": "ipython2",
   "version": "2.7.12"
  }
 },
 "nbformat": 4,
 "nbformat_minor": 2
}
